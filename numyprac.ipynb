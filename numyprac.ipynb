{
 "cells": [
  {
   "cell_type": "code",
   "execution_count": 3,
   "metadata": {},
   "outputs": [
    {
     "name": "stdout",
     "output_type": "stream",
     "text": [
      "[[ 0  1  2  3  4]\n",
      " [ 5  6  7  8  9]\n",
      " [10 11 12 13 14]]\n"
     ]
    }
   ],
   "source": [
    "import numpy as np\n",
    "a = np.arange(15).reshape(3,5)\n",
    "print(a)"
   ]
  },
  {
   "cell_type": "code",
   "execution_count": 7,
   "metadata": {},
   "outputs": [
    {
     "data": {
      "text/plain": [
       "4"
      ]
     },
     "execution_count": 7,
     "metadata": {},
     "output_type": "execute_result"
    }
   ],
   "source": [
    "a.shape\n",
    "a.ndim\n",
    "a.size\n",
    "a.dtype.name\n",
    "a.itemsize"
   ]
  },
  {
   "cell_type": "markdown",
   "metadata": {},
   "source": [
    "### Array creation"
   ]
  },
  {
   "cell_type": "code",
   "execution_count": 18,
   "metadata": {
    "scrolled": true
   },
   "outputs": [
    {
     "name": "stdout",
     "output_type": "stream",
     "text": [
      "(3,) [1 2 3] int32 3\n",
      "[[1.+0.j 2.+0.j 4.+0.j]\n",
      " [1.+0.j 2.+0.j 3.+0.j]\n",
      " [2.+0.j 3.+0.j 4.+0.j]] (3, 3) complex128 9\n"
     ]
    }
   ],
   "source": [
    "a = np.array([1, 2, 3])\n",
    "print(a.shape, a, a.dtype.name, a.size)\n",
    "b = np.array([[1, 2, 4], [1, 2, 3], [2,3,4]], dtype=complex)\n",
    "print(b, b.shape, b.dtype.name, b.size)"
   ]
  },
  {
   "cell_type": "code",
   "execution_count": 22,
   "metadata": {},
   "outputs": [
    {
     "data": {
      "text/plain": [
       "array([[[1, 1, 1, 1],\n",
       "        [1, 1, 1, 1],\n",
       "        [1, 1, 1, 1]],\n",
       "\n",
       "       [[1, 1, 1, 1],\n",
       "        [1, 1, 1, 1],\n",
       "        [1, 1, 1, 1]]], dtype=int64)"
      ]
     },
     "execution_count": 22,
     "metadata": {},
     "output_type": "execute_result"
    }
   ],
   "source": [
    "a = np.zeros((3, 4))\n",
    "b = np.ones((2, 3, 4), dtype='int64')"
   ]
  },
  {
   "cell_type": "code",
   "execution_count": 32,
   "metadata": {},
   "outputs": [
    {
     "name": "stdout",
     "output_type": "stream",
     "text": [
      "[10. 11. 12. 13. 14. 15. 16. 17. 18. 19.]\n",
      "[ 0.          0.3030303   0.60606061  0.90909091  1.21212121  1.51515152\n",
      "  1.81818182  2.12121212  2.42424242  2.72727273  3.03030303  3.33333333\n",
      "  3.63636364  3.93939394  4.24242424  4.54545455  4.84848485  5.15151515\n",
      "  5.45454545  5.75757576  6.06060606  6.36363636  6.66666667  6.96969697\n",
      "  7.27272727  7.57575758  7.87878788  8.18181818  8.48484848  8.78787879\n",
      "  9.09090909  9.39393939  9.6969697  10.         10.3030303  10.60606061\n",
      " 10.90909091 11.21212121 11.51515152 11.81818182 12.12121212 12.42424242\n",
      " 12.72727273 13.03030303 13.33333333 13.63636364 13.93939394 14.24242424\n",
      " 14.54545455 14.84848485 15.15151515 15.45454545 15.75757576 16.06060606\n",
      " 16.36363636 16.66666667 16.96969697 17.27272727 17.57575758 17.87878788\n",
      " 18.18181818 18.48484848 18.78787879 19.09090909 19.39393939 19.6969697\n",
      " 20.         20.3030303  20.60606061 20.90909091 21.21212121 21.51515152\n",
      " 21.81818182 22.12121212 22.42424242 22.72727273 23.03030303 23.33333333\n",
      " 23.63636364 23.93939394 24.24242424 24.54545455 24.84848485 25.15151515\n",
      " 25.45454545 25.75757576 26.06060606 26.36363636 26.66666667 26.96969697\n",
      " 27.27272727 27.57575758 27.87878788 28.18181818 28.48484848 28.78787879\n",
      " 29.09090909 29.39393939 29.6969697  30.        ]\n"
     ]
    }
   ],
   "source": [
    "a = np.arange(10, 20,1, dtype='float64')\n",
    "print(a)\n",
    "a = np.linspace(0, 30, 100)\n",
    "print(a)"
   ]
  },
  {
   "cell_type": "markdown",
   "metadata": {},
   "source": [
    "### Basic Operations"
   ]
  },
  {
   "cell_type": "code",
   "execution_count": 53,
   "metadata": {},
   "outputs": [
    {
     "name": "stdout",
     "output_type": "stream",
     "text": [
      "[[0 1]\n",
      " [2 3]\n",
      " [4 5]]\n"
     ]
    }
   ],
   "source": [
    "a = np.array([0, 10, 20, 30, 40, 50]).reshape(3, 2)\n",
    "b = np.arange(a.size).reshape(a.shape[0], a.shape[1])\n",
    "c = a-b\n",
    "print(b)"
   ]
  },
  {
   "cell_type": "code",
   "execution_count": 65,
   "metadata": {},
   "outputs": [
    {
     "name": "stdout",
     "output_type": "stream",
     "text": [
      "[10 19 28 37 46] [ 0  1  4  9 16]\n",
      "[0.         0.39269908 0.78539816 1.17809725 1.57079633] [0.         0.38268343 0.70710678 0.92387953 1.        ]\n"
     ]
    },
    {
     "data": {
      "text/plain": [
       "array([ True,  True,  True, False, False])"
      ]
     },
     "execution_count": 65,
     "metadata": {},
     "output_type": "execute_result"
    }
   ],
   "source": [
    "a = np.array([10, 20, 30, 40, 50])\n",
    "b = np.arange(5)\n",
    "c = a-b\n",
    "d = b**2\n",
    "print(c, d)\n",
    "e = np.linspace(0, np.pi/2, 5)\n",
    "print(e, np.sin(e))\n",
    "a<35\n"
   ]
  },
  {
   "cell_type": "code",
   "execution_count": 78,
   "metadata": {},
   "outputs": [
    {
     "name": "stdout",
     "output_type": "stream",
     "text": [
      "[[ 0 10]\n",
      " [20 30]]\n",
      "[[ 0 20]\n",
      " [40 60]]\n",
      "[[   0  200]\n",
      " [ 800 1800]]\n",
      "[[ 400  600]\n",
      " [1200 2200]]\n",
      "[[ 400  600]\n",
      " [1200 2200]]\n",
      "[[3 3 3]\n",
      " [3 3 3]]\n",
      "[[6 6 3]\n",
      " [3 3 3]]\n",
      "[1.         2.57079633 4.14159265] float64\n",
      "[ 0.54030231+0.84147098j -0.84147098+0.54030231j -0.54030231-0.84147098j] complex128\n"
     ]
    }
   ],
   "source": [
    "A = np.arange(0, 40, 10).reshape(2,2)\n",
    "B = np.arange(0, 80, 20).reshape(2,2)\n",
    "print(A)\n",
    "print(B)\n",
    "print(A*B)\n",
    "print(A @ B)\n",
    "print(A.dot(B))\n",
    "a = np.ones((2,3), dtype='int32')\n",
    "b = np.random.randint(5,size=(2,3))\n",
    "a*=3\n",
    "print(a)\n",
    "b += a\n",
    "print(b)\n",
    "a = np.ones(3, dtype='int32')\n",
    "b = np.linspace(0, np.pi, 3)\n",
    "c = a+b\n",
    "print(c, c.dtype.name)\n",
    "d = np.exp(c*1j)\n",
    "print(d, d.dtype)"
   ]
  },
  {
   "cell_type": "code",
   "execution_count": 80,
   "metadata": {},
   "outputs": [
    {
     "name": "stdout",
     "output_type": "stream",
     "text": [
      "[[0.4366842  0.53294007 0.33623722]\n",
      " [0.43722477 0.24546652 0.31315753]]\n",
      "2.301710300636471\n",
      "0.24546651705558808\n",
      "0.5329400703082573\n"
     ]
    }
   ],
   "source": [
    "a = np.random.random((2,3))\n",
    "print(a)\n",
    "print(a.sum())\n",
    "print(a.min())\n",
    "print(a.max())"
   ]
  },
  {
   "cell_type": "markdown",
   "metadata": {},
   "source": [
    "### Universal Functions"
   ]
  },
  {
   "cell_type": "code",
   "execution_count": 84,
   "metadata": {},
   "outputs": [
    {
     "name": "stdout",
     "output_type": "stream",
     "text": [
      "[1.         2.71828183 7.3890561 ] [0.         1.         1.41421356] [0 1 2]\n"
     ]
    }
   ],
   "source": [
    "B = np.arange(3)\n",
    "print(np.exp(B), np.sqrt(B), B)"
   ]
  },
  {
   "cell_type": "markdown",
   "metadata": {},
   "source": [
    "### Indexing, Slicing, and Iterating"
   ]
  },
  {
   "cell_type": "code",
   "execution_count": 106,
   "metadata": {},
   "outputs": [
    {
     "name": "stdout",
     "output_type": "stream",
     "text": [
      "[  0   1   8  27  64 125 216 343 512 729] [ 8 27 64]\n",
      "[  0   1   8  27  64 125 216 343 512 729]\n"
     ]
    }
   ],
   "source": [
    "a = np.arange(10)**3\n",
    "print(a, a[2:5])\n",
    "# a[0:-1:3] = -10\n",
    "print(a)\n"
   ]
  },
  {
   "cell_type": "code",
   "execution_count": 108,
   "metadata": {},
   "outputs": [
    {
     "name": "stdout",
     "output_type": "stream",
     "text": [
      "[  0   8  64 216 512]\n"
     ]
    }
   ],
   "source": [
    "print(a[0:-1:2])"
   ]
  },
  {
   "cell_type": "code",
   "execution_count": 116,
   "metadata": {},
   "outputs": [
    {
     "name": "stdout",
     "output_type": "stream",
     "text": [
      "[[ 0  1  2  3]\n",
      " [10 11 12 13]\n",
      " [20 21 22 23]\n",
      " [30 31 32 33]\n",
      " [40 41 42 43]]\n",
      "[ 3 13 23 33 43]\n",
      "[[ 0  1  2  3]\n",
      " [10 11 12 13]]\n",
      "[40 41 42 43]\n"
     ]
    }
   ],
   "source": [
    "def f(x, y):\n",
    "    return 10*x+y\n",
    "b = np.fromfunction(f, (5,4), dtype=int)\n",
    "print(b)\n",
    "print(b[:, 3])\n",
    "print(b[:2, :])\n",
    "print(b[-1])"
   ]
  },
  {
   "cell_type": "markdown",
   "metadata": {},
   "source": [
    "### Shape Manipulation"
   ]
  },
  {
   "cell_type": "code",
   "execution_count": 127,
   "metadata": {},
   "outputs": [
    {
     "name": "stdout",
     "output_type": "stream",
     "text": [
      "[[0. 9. 1. 4.]\n",
      " [3. 5. 3. 1.]\n",
      " [7. 2. 4. 4.]]\n",
      "6x2 [[0. 9.]\n",
      " [1. 4.]\n",
      " [3. 5.]\n",
      " [3. 1.]\n",
      " [7. 2.]\n",
      " [4. 4.]]\n",
      "[[0. 3. 7.]\n",
      " [9. 5. 2.]\n",
      " [1. 3. 4.]\n",
      " [4. 1. 4.]]\n"
     ]
    }
   ],
   "source": [
    "a =  np.floor(10*np.random.random((3, 4)))\n",
    "print(a)\n",
    "a.ravel()\n",
    "print('6x2',a.reshape(6,2))\n",
    "print(a.T)"
   ]
  },
  {
   "cell_type": "markdown",
   "metadata": {},
   "source": [
    "### Stacking Different Arrays"
   ]
  },
  {
   "cell_type": "code",
   "execution_count": 131,
   "metadata": {},
   "outputs": [
    {
     "name": "stdout",
     "output_type": "stream",
     "text": [
      "[[1 7]\n",
      " [4 3]] [[2 6]\n",
      " [3 5]]\n"
     ]
    },
    {
     "data": {
      "text/plain": [
       "array([[1, 7, 2, 6],\n",
       "       [4, 3, 3, 5]])"
      ]
     },
     "execution_count": 131,
     "metadata": {},
     "output_type": "execute_result"
    }
   ],
   "source": [
    "a = np.random.randint(10,size=(2,2))\n",
    "b = np.random.randint(10,size=(2,2))\n",
    "print(a, b)\n",
    "np.vstack((a,b))\n",
    "np.hstack((a, b))"
   ]
  },
  {
   "cell_type": "markdown",
   "metadata": {},
   "source": [
    "### Splitting one array into several smaller ones"
   ]
  },
  {
   "cell_type": "code",
   "execution_count": 138,
   "metadata": {},
   "outputs": [
    {
     "name": "stdout",
     "output_type": "stream",
     "text": [
      "(3, 4)\n",
      "[[   0    2    0    2]\n",
      " [1234    9    3    8]\n",
      " [   6    5    1    8]]\n"
     ]
    }
   ],
   "source": [
    "a = np.random.randint(10,size=(3, 4))\n",
    "c = a.view()\n",
    "c is a\n",
    "c.base is a\n",
    "c.flags.owndata\n",
    "print(a.shape)\n",
    "c[1, 0] = 1234\n",
    "print(a)"
   ]
  },
  {
   "cell_type": "code",
   "execution_count": 141,
   "metadata": {},
   "outputs": [
    {
     "name": "stdout",
     "output_type": "stream",
     "text": [
      "[[10 10]\n",
      " [10 10]\n",
      " [10 10]] [[   0   10   10    2]\n",
      " [1234   10   10    8]\n",
      " [   6   10   10    8]]\n"
     ]
    }
   ],
   "source": [
    "s = a[:, 1:3]\n",
    "s[:] =10\n",
    "print(s, a)"
   ]
  }
 ],
 "metadata": {
  "kernelspec": {
   "display_name": "Python 3",
   "language": "python",
   "name": "python3"
  },
  "language_info": {
   "codemirror_mode": {
    "name": "ipython",
    "version": 3
   },
   "file_extension": ".py",
   "mimetype": "text/x-python",
   "name": "python",
   "nbconvert_exporter": "python",
   "pygments_lexer": "ipython3",
   "version": "3.5.6"
  }
 },
 "nbformat": 4,
 "nbformat_minor": 2
}
